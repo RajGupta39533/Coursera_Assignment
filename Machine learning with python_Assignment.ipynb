{
 "cells": [
  {
   "cell_type": "code",
   "execution_count": 1,
   "id": "37cde167",
   "metadata": {},
   "outputs": [],
   "source": [
    "import itertools\n",
    "import numpy as np\n",
    "import matplotlib.pyplot as plt\n",
    "from matplotlib.ticker import NullFormatter\n",
    "import pandas as pd\n",
    "import numpy as np\n",
    "import matplotlib.ticker as ticker\n",
    "from sklearn import preprocessing\n",
    "%matplotlib inline"
   ]
  },
  {
   "cell_type": "code",
   "execution_count": 12,
   "id": "35e77b74",
   "metadata": {},
   "outputs": [],
   "source": [
    "df = pd.read_csv('https://cf-courses-data.s3.us.cloud-object-storage.appdomain.cloud/IBMDeveloperSkillsNetwork-ML0101EN-SkillsNetwork/labs/FinalModule_Coursera/data/loan_train.csv')"
   ]
  },
  {
   "cell_type": "code",
   "execution_count": 13,
   "id": "009a7119",
   "metadata": {},
   "outputs": [
    {
     "data": {
      "text/html": [
       "<div>\n",
       "<style scoped>\n",
       "    .dataframe tbody tr th:only-of-type {\n",
       "        vertical-align: middle;\n",
       "    }\n",
       "\n",
       "    .dataframe tbody tr th {\n",
       "        vertical-align: top;\n",
       "    }\n",
       "\n",
       "    .dataframe thead th {\n",
       "        text-align: right;\n",
       "    }\n",
       "</style>\n",
       "<table border=\"1\" class=\"dataframe\">\n",
       "  <thead>\n",
       "    <tr style=\"text-align: right;\">\n",
       "      <th></th>\n",
       "      <th>Unnamed: 0</th>\n",
       "      <th>Unnamed: 0.1</th>\n",
       "      <th>loan_status</th>\n",
       "      <th>Principal</th>\n",
       "      <th>terms</th>\n",
       "      <th>effective_date</th>\n",
       "      <th>due_date</th>\n",
       "      <th>age</th>\n",
       "      <th>education</th>\n",
       "      <th>Gender</th>\n",
       "    </tr>\n",
       "  </thead>\n",
       "  <tbody>\n",
       "    <tr>\n",
       "      <th>0</th>\n",
       "      <td>0</td>\n",
       "      <td>0</td>\n",
       "      <td>PAIDOFF</td>\n",
       "      <td>1000</td>\n",
       "      <td>30</td>\n",
       "      <td>9/8/2016</td>\n",
       "      <td>10/7/2016</td>\n",
       "      <td>45</td>\n",
       "      <td>High School or Below</td>\n",
       "      <td>male</td>\n",
       "    </tr>\n",
       "    <tr>\n",
       "      <th>1</th>\n",
       "      <td>2</td>\n",
       "      <td>2</td>\n",
       "      <td>PAIDOFF</td>\n",
       "      <td>1000</td>\n",
       "      <td>30</td>\n",
       "      <td>9/8/2016</td>\n",
       "      <td>10/7/2016</td>\n",
       "      <td>33</td>\n",
       "      <td>Bechalor</td>\n",
       "      <td>female</td>\n",
       "    </tr>\n",
       "    <tr>\n",
       "      <th>2</th>\n",
       "      <td>3</td>\n",
       "      <td>3</td>\n",
       "      <td>PAIDOFF</td>\n",
       "      <td>1000</td>\n",
       "      <td>15</td>\n",
       "      <td>9/8/2016</td>\n",
       "      <td>9/22/2016</td>\n",
       "      <td>27</td>\n",
       "      <td>college</td>\n",
       "      <td>male</td>\n",
       "    </tr>\n",
       "    <tr>\n",
       "      <th>3</th>\n",
       "      <td>4</td>\n",
       "      <td>4</td>\n",
       "      <td>PAIDOFF</td>\n",
       "      <td>1000</td>\n",
       "      <td>30</td>\n",
       "      <td>9/9/2016</td>\n",
       "      <td>10/8/2016</td>\n",
       "      <td>28</td>\n",
       "      <td>college</td>\n",
       "      <td>female</td>\n",
       "    </tr>\n",
       "    <tr>\n",
       "      <th>4</th>\n",
       "      <td>6</td>\n",
       "      <td>6</td>\n",
       "      <td>PAIDOFF</td>\n",
       "      <td>1000</td>\n",
       "      <td>30</td>\n",
       "      <td>9/9/2016</td>\n",
       "      <td>10/8/2016</td>\n",
       "      <td>29</td>\n",
       "      <td>college</td>\n",
       "      <td>male</td>\n",
       "    </tr>\n",
       "    <tr>\n",
       "      <th>...</th>\n",
       "      <td>...</td>\n",
       "      <td>...</td>\n",
       "      <td>...</td>\n",
       "      <td>...</td>\n",
       "      <td>...</td>\n",
       "      <td>...</td>\n",
       "      <td>...</td>\n",
       "      <td>...</td>\n",
       "      <td>...</td>\n",
       "      <td>...</td>\n",
       "    </tr>\n",
       "    <tr>\n",
       "      <th>341</th>\n",
       "      <td>394</td>\n",
       "      <td>394</td>\n",
       "      <td>COLLECTION</td>\n",
       "      <td>800</td>\n",
       "      <td>15</td>\n",
       "      <td>9/11/2016</td>\n",
       "      <td>9/25/2016</td>\n",
       "      <td>32</td>\n",
       "      <td>High School or Below</td>\n",
       "      <td>male</td>\n",
       "    </tr>\n",
       "    <tr>\n",
       "      <th>342</th>\n",
       "      <td>395</td>\n",
       "      <td>395</td>\n",
       "      <td>COLLECTION</td>\n",
       "      <td>1000</td>\n",
       "      <td>30</td>\n",
       "      <td>9/11/2016</td>\n",
       "      <td>10/10/2016</td>\n",
       "      <td>25</td>\n",
       "      <td>High School or Below</td>\n",
       "      <td>male</td>\n",
       "    </tr>\n",
       "    <tr>\n",
       "      <th>343</th>\n",
       "      <td>397</td>\n",
       "      <td>397</td>\n",
       "      <td>COLLECTION</td>\n",
       "      <td>800</td>\n",
       "      <td>15</td>\n",
       "      <td>9/12/2016</td>\n",
       "      <td>9/26/2016</td>\n",
       "      <td>39</td>\n",
       "      <td>college</td>\n",
       "      <td>male</td>\n",
       "    </tr>\n",
       "    <tr>\n",
       "      <th>344</th>\n",
       "      <td>398</td>\n",
       "      <td>398</td>\n",
       "      <td>COLLECTION</td>\n",
       "      <td>1000</td>\n",
       "      <td>30</td>\n",
       "      <td>9/12/2016</td>\n",
       "      <td>11/10/2016</td>\n",
       "      <td>28</td>\n",
       "      <td>college</td>\n",
       "      <td>male</td>\n",
       "    </tr>\n",
       "    <tr>\n",
       "      <th>345</th>\n",
       "      <td>399</td>\n",
       "      <td>399</td>\n",
       "      <td>COLLECTION</td>\n",
       "      <td>1000</td>\n",
       "      <td>30</td>\n",
       "      <td>9/12/2016</td>\n",
       "      <td>10/11/2016</td>\n",
       "      <td>26</td>\n",
       "      <td>college</td>\n",
       "      <td>male</td>\n",
       "    </tr>\n",
       "  </tbody>\n",
       "</table>\n",
       "<p>346 rows × 10 columns</p>\n",
       "</div>"
      ],
      "text/plain": [
       "     Unnamed: 0  Unnamed: 0.1 loan_status  Principal  terms effective_date  \\\n",
       "0             0             0     PAIDOFF       1000     30       9/8/2016   \n",
       "1             2             2     PAIDOFF       1000     30       9/8/2016   \n",
       "2             3             3     PAIDOFF       1000     15       9/8/2016   \n",
       "3             4             4     PAIDOFF       1000     30       9/9/2016   \n",
       "4             6             6     PAIDOFF       1000     30       9/9/2016   \n",
       "..          ...           ...         ...        ...    ...            ...   \n",
       "341         394           394  COLLECTION        800     15      9/11/2016   \n",
       "342         395           395  COLLECTION       1000     30      9/11/2016   \n",
       "343         397           397  COLLECTION        800     15      9/12/2016   \n",
       "344         398           398  COLLECTION       1000     30      9/12/2016   \n",
       "345         399           399  COLLECTION       1000     30      9/12/2016   \n",
       "\n",
       "       due_date  age             education  Gender  \n",
       "0     10/7/2016   45  High School or Below    male  \n",
       "1     10/7/2016   33              Bechalor  female  \n",
       "2     9/22/2016   27               college    male  \n",
       "3     10/8/2016   28               college  female  \n",
       "4     10/8/2016   29               college    male  \n",
       "..          ...  ...                   ...     ...  \n",
       "341   9/25/2016   32  High School or Below    male  \n",
       "342  10/10/2016   25  High School or Below    male  \n",
       "343   9/26/2016   39               college    male  \n",
       "344  11/10/2016   28               college    male  \n",
       "345  10/11/2016   26               college    male  \n",
       "\n",
       "[346 rows x 10 columns]"
      ]
     },
     "execution_count": 13,
     "metadata": {},
     "output_type": "execute_result"
    }
   ],
   "source": [
    "df"
   ]
  },
  {
   "cell_type": "code",
   "execution_count": 14,
   "id": "b0052342",
   "metadata": {},
   "outputs": [
    {
     "data": {
      "text/plain": [
       "(346, 10)"
      ]
     },
     "execution_count": 14,
     "metadata": {},
     "output_type": "execute_result"
    }
   ],
   "source": [
    "df.shape"
   ]
  },
  {
   "cell_type": "markdown",
   "id": "438e2639",
   "metadata": {},
   "source": [
    "__Convert to date time object__"
   ]
  },
  {
   "cell_type": "code",
   "execution_count": 15,
   "id": "1f9deb0c",
   "metadata": {},
   "outputs": [
    {
     "data": {
      "text/html": [
       "<div>\n",
       "<style scoped>\n",
       "    .dataframe tbody tr th:only-of-type {\n",
       "        vertical-align: middle;\n",
       "    }\n",
       "\n",
       "    .dataframe tbody tr th {\n",
       "        vertical-align: top;\n",
       "    }\n",
       "\n",
       "    .dataframe thead th {\n",
       "        text-align: right;\n",
       "    }\n",
       "</style>\n",
       "<table border=\"1\" class=\"dataframe\">\n",
       "  <thead>\n",
       "    <tr style=\"text-align: right;\">\n",
       "      <th></th>\n",
       "      <th>Unnamed: 0</th>\n",
       "      <th>Unnamed: 0.1</th>\n",
       "      <th>loan_status</th>\n",
       "      <th>Principal</th>\n",
       "      <th>terms</th>\n",
       "      <th>effective_date</th>\n",
       "      <th>due_date</th>\n",
       "      <th>age</th>\n",
       "      <th>education</th>\n",
       "      <th>Gender</th>\n",
       "    </tr>\n",
       "  </thead>\n",
       "  <tbody>\n",
       "    <tr>\n",
       "      <th>0</th>\n",
       "      <td>0</td>\n",
       "      <td>0</td>\n",
       "      <td>PAIDOFF</td>\n",
       "      <td>1000</td>\n",
       "      <td>30</td>\n",
       "      <td>2016-09-08</td>\n",
       "      <td>2016-10-07</td>\n",
       "      <td>45</td>\n",
       "      <td>High School or Below</td>\n",
       "      <td>male</td>\n",
       "    </tr>\n",
       "    <tr>\n",
       "      <th>1</th>\n",
       "      <td>2</td>\n",
       "      <td>2</td>\n",
       "      <td>PAIDOFF</td>\n",
       "      <td>1000</td>\n",
       "      <td>30</td>\n",
       "      <td>2016-09-08</td>\n",
       "      <td>2016-10-07</td>\n",
       "      <td>33</td>\n",
       "      <td>Bechalor</td>\n",
       "      <td>female</td>\n",
       "    </tr>\n",
       "    <tr>\n",
       "      <th>2</th>\n",
       "      <td>3</td>\n",
       "      <td>3</td>\n",
       "      <td>PAIDOFF</td>\n",
       "      <td>1000</td>\n",
       "      <td>15</td>\n",
       "      <td>2016-09-08</td>\n",
       "      <td>2016-09-22</td>\n",
       "      <td>27</td>\n",
       "      <td>college</td>\n",
       "      <td>male</td>\n",
       "    </tr>\n",
       "    <tr>\n",
       "      <th>3</th>\n",
       "      <td>4</td>\n",
       "      <td>4</td>\n",
       "      <td>PAIDOFF</td>\n",
       "      <td>1000</td>\n",
       "      <td>30</td>\n",
       "      <td>2016-09-09</td>\n",
       "      <td>2016-10-08</td>\n",
       "      <td>28</td>\n",
       "      <td>college</td>\n",
       "      <td>female</td>\n",
       "    </tr>\n",
       "    <tr>\n",
       "      <th>4</th>\n",
       "      <td>6</td>\n",
       "      <td>6</td>\n",
       "      <td>PAIDOFF</td>\n",
       "      <td>1000</td>\n",
       "      <td>30</td>\n",
       "      <td>2016-09-09</td>\n",
       "      <td>2016-10-08</td>\n",
       "      <td>29</td>\n",
       "      <td>college</td>\n",
       "      <td>male</td>\n",
       "    </tr>\n",
       "  </tbody>\n",
       "</table>\n",
       "</div>"
      ],
      "text/plain": [
       "   Unnamed: 0  Unnamed: 0.1 loan_status  Principal  terms effective_date  \\\n",
       "0           0             0     PAIDOFF       1000     30     2016-09-08   \n",
       "1           2             2     PAIDOFF       1000     30     2016-09-08   \n",
       "2           3             3     PAIDOFF       1000     15     2016-09-08   \n",
       "3           4             4     PAIDOFF       1000     30     2016-09-09   \n",
       "4           6             6     PAIDOFF       1000     30     2016-09-09   \n",
       "\n",
       "    due_date  age             education  Gender  \n",
       "0 2016-10-07   45  High School or Below    male  \n",
       "1 2016-10-07   33              Bechalor  female  \n",
       "2 2016-09-22   27               college    male  \n",
       "3 2016-10-08   28               college  female  \n",
       "4 2016-10-08   29               college    male  "
      ]
     },
     "execution_count": 15,
     "metadata": {},
     "output_type": "execute_result"
    }
   ],
   "source": [
    "df['due_date'] = pd.to_datetime(df['due_date'])\n",
    "df['effective_date'] = pd.to_datetime(df['effective_date'])\n",
    "df.head()"
   ]
  },
  {
   "cell_type": "markdown",
   "id": "d6bfa19b",
   "metadata": {},
   "source": [
    "__Data visualization and pre-processing__\n",
    "\n",
    "Let’s see how many of each class is in our data set"
   ]
  },
  {
   "cell_type": "code",
   "execution_count": 16,
   "id": "c74b1904",
   "metadata": {},
   "outputs": [
    {
     "data": {
      "text/plain": [
       "PAIDOFF       260\n",
       "COLLECTION     86\n",
       "Name: loan_status, dtype: int64"
      ]
     },
     "execution_count": 16,
     "metadata": {},
     "output_type": "execute_result"
    }
   ],
   "source": [
    "df['loan_status'].value_counts()"
   ]
  },
  {
   "cell_type": "code",
   "execution_count": 17,
   "id": "1cbf3ddc",
   "metadata": {},
   "outputs": [
    {
     "name": "stdout",
     "output_type": "stream",
     "text": [
      "Collecting package metadata (current_repodata.json): ...working... done\n",
      "Solving environment: ...working... done\n",
      "\n",
      "## Package Plan ##\n",
      "\n",
      "  environment location: C:\\Users\\guptdraj\\Anaconda3\n",
      "\n",
      "  added / updated specs:\n",
      "    - seaborn\n",
      "\n",
      "\n",
      "The following packages will be downloaded:\n",
      "\n",
      "    package                    |            build\n",
      "    ---------------------------|-----------------\n",
      "    ca-certificates-2021.10.26 |       haa95532_2         151 KB  anaconda\n",
      "    certifi-2021.10.8          |   py39haa95532_0         155 KB  anaconda\n",
      "    conda-4.12.0               |   py39haa95532_0        17.0 MB  anaconda\n",
      "    openssl-1.1.1l             |       h2bbff1b_0         5.7 MB  anaconda\n",
      "    seaborn-0.11.2             |     pyhd3eb1b0_0         223 KB  anaconda\n",
      "    ------------------------------------------------------------\n",
      "                                           Total:        23.2 MB\n",
      "\n",
      "The following packages will be SUPERSEDED by a higher-priority channel:\n",
      "\n",
      "  ca-certificates                                 pkgs/main --> anaconda\n",
      "  certifi                                         pkgs/main --> anaconda\n",
      "  conda                                           pkgs/main --> anaconda\n",
      "  openssl                                         pkgs/main --> anaconda\n",
      "  seaborn                                         pkgs/main --> anaconda\n",
      "\n",
      "\n",
      "\n",
      "Downloading and Extracting Packages\n",
      "\n",
      "conda-4.12.0         | 17.0 MB   |            |   0% \n",
      "conda-4.12.0         | 17.0 MB   |            |   0% \n",
      "conda-4.12.0         | 17.0 MB   | 1          |   1% \n",
      "conda-4.12.0         | 17.0 MB   | 2          |   3% \n",
      "conda-4.12.0         | 17.0 MB   | 3          |   4% \n",
      "conda-4.12.0         | 17.0 MB   | 4          |   5% \n",
      "conda-4.12.0         | 17.0 MB   | 5          |   6% \n",
      "conda-4.12.0         | 17.0 MB   | 6          |   7% \n",
      "conda-4.12.0         | 17.0 MB   | 8          |   9% \n",
      "conda-4.12.0         | 17.0 MB   | #          |  11% \n",
      "conda-4.12.0         | 17.0 MB   | #1         |  12% \n",
      "conda-4.12.0         | 17.0 MB   | #3         |  13% \n",
      "conda-4.12.0         | 17.0 MB   | #4         |  14% \n",
      "conda-4.12.0         | 17.0 MB   | #5         |  15% \n",
      "conda-4.12.0         | 17.0 MB   | #6         |  16% \n",
      "conda-4.12.0         | 17.0 MB   | #8         |  18% \n",
      "conda-4.12.0         | 17.0 MB   | #9         |  19% \n",
      "conda-4.12.0         | 17.0 MB   | ##         |  20% \n",
      "conda-4.12.0         | 17.0 MB   | ##1        |  21% \n",
      "conda-4.12.0         | 17.0 MB   | ##3        |  23% \n",
      "conda-4.12.0         | 17.0 MB   | ##4        |  25% \n",
      "conda-4.12.0         | 17.0 MB   | ##5        |  26% \n",
      "conda-4.12.0         | 17.0 MB   | ##6        |  27% \n",
      "conda-4.12.0         | 17.0 MB   | ##7        |  28% \n",
      "conda-4.12.0         | 17.0 MB   | ##9        |  30% \n",
      "conda-4.12.0         | 17.0 MB   | ###2       |  33% \n",
      "conda-4.12.0         | 17.0 MB   | ###3       |  34% \n",
      "conda-4.12.0         | 17.0 MB   | ###4       |  35% \n",
      "conda-4.12.0         | 17.0 MB   | ###5       |  36% \n",
      "conda-4.12.0         | 17.0 MB   | ###6       |  37% \n",
      "conda-4.12.0         | 17.0 MB   | ###8       |  38% \n",
      "conda-4.12.0         | 17.0 MB   | ###9       |  39% \n",
      "conda-4.12.0         | 17.0 MB   | ####       |  40% \n",
      "conda-4.12.0         | 17.0 MB   | ####1      |  42% \n",
      "conda-4.12.0         | 17.0 MB   | ####2      |  43% \n",
      "conda-4.12.0         | 17.0 MB   | ####4      |  44% \n",
      "conda-4.12.0         | 17.0 MB   | ####5      |  45% \n",
      "conda-4.12.0         | 17.0 MB   | ####6      |  46% \n",
      "conda-4.12.0         | 17.0 MB   | ####7      |  47% \n",
      "conda-4.12.0         | 17.0 MB   | ####8      |  48% \n",
      "conda-4.12.0         | 17.0 MB   | ####9      |  49% \n",
      "conda-4.12.0         | 17.0 MB   | #####      |  50% \n",
      "conda-4.12.0         | 17.0 MB   | #####1     |  51% \n",
      "conda-4.12.0         | 17.0 MB   | #####1     |  52% \n",
      "conda-4.12.0         | 17.0 MB   | #####2     |  53% \n",
      "conda-4.12.0         | 17.0 MB   | #####4     |  54% \n",
      "conda-4.12.0         | 17.0 MB   | #####5     |  56% \n",
      "conda-4.12.0         | 17.0 MB   | #####6     |  57% \n",
      "conda-4.12.0         | 17.0 MB   | #####8     |  59% \n",
      "conda-4.12.0         | 17.0 MB   | ######     |  60% \n",
      "conda-4.12.0         | 17.0 MB   | ######1    |  61% \n",
      "conda-4.12.0         | 17.0 MB   | ######2    |  63% \n",
      "conda-4.12.0         | 17.0 MB   | ######3    |  64% \n",
      "conda-4.12.0         | 17.0 MB   | ######4    |  65% \n",
      "conda-4.12.0         | 17.0 MB   | ######5    |  66% \n",
      "conda-4.12.0         | 17.0 MB   | ######7    |  67% \n",
      "conda-4.12.0         | 17.0 MB   | ######8    |  68% \n",
      "conda-4.12.0         | 17.0 MB   | ######9    |  69% \n",
      "conda-4.12.0         | 17.0 MB   | #######    |  70% \n",
      "conda-4.12.0         | 17.0 MB   | #######1   |  71% \n",
      "conda-4.12.0         | 17.0 MB   | #######2   |  72% \n",
      "conda-4.12.0         | 17.0 MB   | #######3   |  74% \n",
      "conda-4.12.0         | 17.0 MB   | #######4   |  75% \n",
      "conda-4.12.0         | 17.0 MB   | #######5   |  76% \n",
      "conda-4.12.0         | 17.0 MB   | #######6   |  77% \n",
      "conda-4.12.0         | 17.0 MB   | #######7   |  77% \n",
      "conda-4.12.0         | 17.0 MB   | #######8   |  78% \n",
      "conda-4.12.0         | 17.0 MB   | #######9   |  79% \n",
      "conda-4.12.0         | 17.0 MB   | ########   |  80% \n",
      "conda-4.12.0         | 17.0 MB   | ########1  |  81% \n",
      "conda-4.12.0         | 17.0 MB   | ########2  |  82% \n",
      "conda-4.12.0         | 17.0 MB   | ########3  |  83% \n",
      "conda-4.12.0         | 17.0 MB   | ########5  |  85% \n",
      "conda-4.12.0         | 17.0 MB   | ########6  |  86% \n",
      "conda-4.12.0         | 17.0 MB   | ########7  |  87% \n",
      "conda-4.12.0         | 17.0 MB   | ########8  |  88% \n",
      "conda-4.12.0         | 17.0 MB   | ########9  |  89% \n",
      "conda-4.12.0         | 17.0 MB   | #########  |  91% \n",
      "conda-4.12.0         | 17.0 MB   | #########1 |  92% \n",
      "conda-4.12.0         | 17.0 MB   | #########3 |  93% \n",
      "conda-4.12.0         | 17.0 MB   | #########4 |  94% \n",
      "conda-4.12.0         | 17.0 MB   | #########5 |  96% \n",
      "conda-4.12.0         | 17.0 MB   | #########6 |  97% \n",
      "conda-4.12.0         | 17.0 MB   | #########7 |  98% \n",
      "conda-4.12.0         | 17.0 MB   | #########9 |  99% \n",
      "conda-4.12.0         | 17.0 MB   | ########## | 100% \n",
      "conda-4.12.0         | 17.0 MB   | ########## | 100% \n",
      "\n",
      "openssl-1.1.1l       | 5.7 MB    |            |   0% \n",
      "openssl-1.1.1l       | 5.7 MB    |            |   0% \n",
      "openssl-1.1.1l       | 5.7 MB    | 3          |   4% \n",
      "openssl-1.1.1l       | 5.7 MB    | 7          |   8% \n",
      "openssl-1.1.1l       | 5.7 MB    | #1         |  11% \n",
      "openssl-1.1.1l       | 5.7 MB    | #4         |  15% \n",
      "openssl-1.1.1l       | 5.7 MB    | #7         |  18% \n",
      "openssl-1.1.1l       | 5.7 MB    | ##         |  21% \n",
      "openssl-1.1.1l       | 5.7 MB    | ##4        |  25% \n",
      "openssl-1.1.1l       | 5.7 MB    | ##7        |  28% \n",
      "openssl-1.1.1l       | 5.7 MB    | ###        |  31% \n",
      "openssl-1.1.1l       | 5.7 MB    | ###3       |  34% \n",
      "openssl-1.1.1l       | 5.7 MB    | ###6       |  36% \n",
      "openssl-1.1.1l       | 5.7 MB    | ####2      |  43% \n",
      "openssl-1.1.1l       | 5.7 MB    | ####6      |  46% \n",
      "openssl-1.1.1l       | 5.7 MB    | ####9      |  50% \n",
      "openssl-1.1.1l       | 5.7 MB    | #####3     |  53% \n",
      "openssl-1.1.1l       | 5.7 MB    | #####6     |  56% \n",
      "openssl-1.1.1l       | 5.7 MB    | #####9     |  59% \n",
      "openssl-1.1.1l       | 5.7 MB    | ######2    |  62% \n",
      "openssl-1.1.1l       | 5.7 MB    | ######4    |  65% \n",
      "openssl-1.1.1l       | 5.7 MB    | ######7    |  67% \n",
      "openssl-1.1.1l       | 5.7 MB    | #######3   |  73% \n",
      "openssl-1.1.1l       | 5.7 MB    | ########4  |  84% \n",
      "openssl-1.1.1l       | 5.7 MB    | ########9  |  90% \n",
      "openssl-1.1.1l       | 5.7 MB    | #########5 |  95% \n",
      "openssl-1.1.1l       | 5.7 MB    | #########9 | 100% \n",
      "openssl-1.1.1l       | 5.7 MB    | ########## | 100% \n",
      "\n",
      "certifi-2021.10.8    | 155 KB    |            |   0% \n",
      "certifi-2021.10.8    | 155 KB    | #          |  10% \n",
      "certifi-2021.10.8    | 155 KB    | ########## | 100% \n",
      "certifi-2021.10.8    | 155 KB    | ########## | 100% \n",
      "\n",
      "ca-certificates-2021 | 151 KB    |            |   0% \n",
      "ca-certificates-2021 | 151 KB    | #          |  11% \n",
      "ca-certificates-2021 | 151 KB    | ########## | 100% \n",
      "ca-certificates-2021 | 151 KB    | ########## | 100% \n",
      "\n",
      "seaborn-0.11.2       | 223 KB    |            |   0% \n",
      "seaborn-0.11.2       | 223 KB    | 7          |   7% \n",
      "seaborn-0.11.2       | 223 KB    | ########## | 100% \n",
      "seaborn-0.11.2       | 223 KB    | ########## | 100% \n",
      "Preparing transaction: ...working... done\n",
      "Verifying transaction: ...working... done\n",
      "Executing transaction: ...working... done\n"
     ]
    }
   ],
   "source": [
    "!conda install -c anaconda seaborn -y"
   ]
  },
  {
   "cell_type": "code",
   "execution_count": 18,
   "id": "dd9a2310",
   "metadata": {},
   "outputs": [
    {
     "data": {
      "image/png": "[encoded data removed]",
      "text/plain": [
       "<Figure size 432x216 with 2 Axes>"
      ]
     },
     "metadata": {
      "needs_background": "light"
     },
     "output_type": "display_data"
    }
   ],
   "source": [
    "import seaborn as sns\n",
    "\n",
    "bins = np.linspace(df.Principal.min(), df.Principal.max(), 10)\n",
    "g = sns.FacetGrid(df, col=\"Gender\", hue=\"loan_status\", palette=\"Set1\", col_wrap=2)\n",
    "g.map(plt.hist, 'Principal', bins=bins, ec=\"k\")\n",
    "\n",
    "g.axes[-1].legend()\n",
    "plt.show()"
   ]
  },
  {
   "cell_type": "code",
   "execution_count": 19,
   "id": "795ba485",
   "metadata": {},
   "outputs": [
    {
     "data": {
      "image/png": "[encoded data removed]",
      "text/plain": [
       "<Figure size 432x216 with 2 Axes>"
      ]
     },
     "metadata": {
      "needs_background": "light"
     },
     "output_type": "display_data"
    }
   ],
   "source": [
    "bins = np.linspace(df.age.min(), df.age.max(), 10)\n",
    "g = sns.FacetGrid(df, col=\"Gender\", hue=\"loan_status\", palette=\"Set1\", col_wrap=2)\n",
    "g.map(plt.hist, 'age', bins=bins, ec=\"k\")\n",
    "\n",
    "g.axes[-1].legend()\n",
    "plt.show()"
   ]
  },
  {
   "cell_type": "markdown",
   "id": "db06939d",
   "metadata": {},
   "source": [
    "__Pre-processing: Feature selection/extraction__\n",
    "\n",
    "Let's look at the day of the week people get the loan"
   ]
  },
  {
   "cell_type": "code",
   "execution_count": 20,
   "id": "4a51fa73",
   "metadata": {},
   "outputs": [
    {
     "data": {
      "image/png": "[encoded data removed]",
      "text/plain": [
       "<Figure size 432x216 with 2 Axes>"
      ]
     },
     "metadata": {
      "needs_background": "light"
     },
     "output_type": "display_data"
    }
   ],
   "source": [
    "df['dayofweek'] = df['effective_date'].dt.dayofweek\n",
    "bins = np.linspace(df.dayofweek.min(), df.dayofweek.max(), 10)\n",
    "g = sns.FacetGrid(df, col=\"Gender\", hue=\"loan_status\", palette=\"Set1\", col_wrap=2)\n",
    "g.map(plt.hist, 'dayofweek', bins=bins, ec=\"k\")\n",
    "g.axes[-1].legend()\n",
    "plt.show()"
   ]
  },
  {
   "cell_type": "markdown",
   "id": "40e12d84",
   "metadata": {},
   "source": [
    "We see that people who get the loan at the end of the week don't pay it off, so let's use Feature binarization to set a threshold value less than day 4"
   ]
  },
  {
   "cell_type": "code",
   "execution_count": 21,
   "id": "dc2e3a1c",
   "metadata": {},
   "outputs": [
    {
     "data": {
      "text/html": [
       "<div>\n",
       "<style scoped>\n",
       "    .dataframe tbody tr th:only-of-type {\n",
       "        vertical-align: middle;\n",
       "    }\n",
       "\n",
       "    .dataframe tbody tr th {\n",
       "        vertical-align: top;\n",
       "    }\n",
       "\n",
       "    .dataframe thead th {\n",
       "        text-align: right;\n",
       "    }\n",
       "</style>\n",
       "<table border=\"1\" class=\"dataframe\">\n",
       "  <thead>\n",
       "    <tr style=\"text-align: right;\">\n",
       "      <th></th>\n",
       "      <th>Unnamed: 0</th>\n",
       "      <th>Unnamed: 0.1</th>\n",
       "      <th>loan_status</th>\n",
       "      <th>Principal</th>\n",
       "      <th>terms</th>\n",
       "      <th>effective_date</th>\n",
       "      <th>due_date</th>\n",
       "      <th>age</th>\n",
       "      <th>education</th>\n",
       "      <th>Gender</th>\n",
       "      <th>dayofweek</th>\n",
       "      <th>weekend</th>\n",
       "    </tr>\n",
       "  </thead>\n",
       "  <tbody>\n",
       "    <tr>\n",
       "      <th>0</th>\n",
       "      <td>0</td>\n",
       "      <td>0</td>\n",
       "      <td>PAIDOFF</td>\n",
       "      <td>1000</td>\n",
       "      <td>30</td>\n",
       "      <td>2016-09-08</td>\n",
       "      <td>2016-10-07</td>\n",
       "      <td>45</td>\n",
       "      <td>High School or Below</td>\n",
       "      <td>male</td>\n",
       "      <td>3</td>\n",
       "      <td>0</td>\n",
       "    </tr>\n",
       "    <tr>\n",
       "      <th>1</th>\n",
       "      <td>2</td>\n",
       "      <td>2</td>\n",
       "      <td>PAIDOFF</td>\n",
       "      <td>1000</td>\n",
       "      <td>30</td>\n",
       "      <td>2016-09-08</td>\n",
       "      <td>2016-10-07</td>\n",
       "      <td>33</td>\n",
       "      <td>Bechalor</td>\n",
       "      <td>female</td>\n",
       "      <td>3</td>\n",
       "      <td>0</td>\n",
       "    </tr>\n",
       "    <tr>\n",
       "      <th>2</th>\n",
       "      <td>3</td>\n",
       "      <td>3</td>\n",
       "      <td>PAIDOFF</td>\n",
       "      <td>1000</td>\n",
       "      <td>15</td>\n",
       "      <td>2016-09-08</td>\n",
       "      <td>2016-09-22</td>\n",
       "      <td>27</td>\n",
       "      <td>college</td>\n",
       "      <td>male</td>\n",
       "      <td>3</td>\n",
       "      <td>0</td>\n",
       "    </tr>\n",
       "    <tr>\n",
       "      <th>3</th>\n",
       "      <td>4</td>\n",
       "      <td>4</td>\n",
       "      <td>PAIDOFF</td>\n",
       "      <td>1000</td>\n",
       "      <td>30</td>\n",
       "      <td>2016-09-09</td>\n",
       "      <td>2016-10-08</td>\n",
       "      <td>28</td>\n",
       "      <td>college</td>\n",
       "      <td>female</td>\n",
       "      <td>4</td>\n",
       "      <td>1</td>\n",
       "    </tr>\n",
       "    <tr>\n",
       "      <th>4</th>\n",
       "      <td>6</td>\n",
       "      <td>6</td>\n",
       "      <td>PAIDOFF</td>\n",
       "      <td>1000</td>\n",
       "      <td>30</td>\n",
       "      <td>2016-09-09</td>\n",
       "      <td>2016-10-08</td>\n",
       "      <td>29</td>\n",
       "      <td>college</td>\n",
       "      <td>male</td>\n",
       "      <td>4</td>\n",
       "      <td>1</td>\n",
       "    </tr>\n",
       "  </tbody>\n",
       "</table>\n",
       "</div>"
      ],
      "text/plain": [
       "   Unnamed: 0  Unnamed: 0.1 loan_status  Principal  terms effective_date  \\\n",
       "0           0             0     PAIDOFF       1000     30     2016-09-08   \n",
       "1           2             2     PAIDOFF       1000     30     2016-09-08   \n",
       "2           3             3     PAIDOFF       1000     15     2016-09-08   \n",
       "3           4             4     PAIDOFF       1000     30     2016-09-09   \n",
       "4           6             6     PAIDOFF       1000     30     2016-09-09   \n",
       "\n",
       "    due_date  age             education  Gender  dayofweek  weekend  \n",
       "0 2016-10-07   45  High School or Below    male          3        0  \n",
       "1 2016-10-07   33              Bechalor  female          3        0  \n",
       "2 2016-09-22   27               college    male          3        0  \n",
       "3 2016-10-08   28               college  female          4        1  \n",
       "4 2016-10-08   29               college    male          4        1  "
      ]
     },
     "execution_count": 21,
     "metadata": {},
     "output_type": "execute_result"
    }
   ],
   "source": [
    "df['weekend'] = df['dayofweek'].apply(lambda x: 1 if (x>3)  else 0)\n",
    "df.head()"
   ]
  },
  {
   "cell_type": "markdown",
   "id": "f0b00fbb",
   "metadata": {},
   "source": [
    "__Convert Categorical features to numerical values__\n",
    "\n",
    "Let's look at gender:"
   ]
  },
  {
   "cell_type": "code",
   "execution_count": 22,
   "id": "b7486cb5",
   "metadata": {},
   "outputs": [
    {
     "data": {
      "text/plain": [
       "Gender  loan_status\n",
       "female  PAIDOFF        0.865385\n",
       "        COLLECTION     0.134615\n",
       "male    PAIDOFF        0.731293\n",
       "        COLLECTION     0.268707\n",
       "Name: loan_status, dtype: float64"
      ]
     },
     "execution_count": 22,
     "metadata": {},
     "output_type": "execute_result"
    }
   ],
   "source": [
    "df.groupby(['Gender'])['loan_status'].value_counts(normalize=True)"
   ]
  },
  {
   "cell_type": "markdown",
   "id": "5cea2604",
   "metadata": {},
   "source": [
    "86 % of female pay there loans while only 73 % of males pay there loan\n",
    "\n",
    "Let's convert male to 0 and female to 1:"
   ]
  },
  {
   "cell_type": "code",
   "execution_count": 23,
   "id": "0a707ce7",
   "metadata": {},
   "outputs": [
    {
     "data": {
      "text/html": [
       "<div>\n",
       "<style scoped>\n",
       "    .dataframe tbody tr th:only-of-type {\n",
       "        vertical-align: middle;\n",
       "    }\n",
       "\n",
       "    .dataframe tbody tr th {\n",
       "        vertical-align: top;\n",
       "    }\n",
       "\n",
       "    .dataframe thead th {\n",
       "        text-align: right;\n",
       "    }\n",
       "</style>\n",
       "<table border=\"1\" class=\"dataframe\">\n",
       "  <thead>\n",
       "    <tr style=\"text-align: right;\">\n",
       "      <th></th>\n",
       "      <th>Unnamed: 0</th>\n",
       "      <th>Unnamed: 0.1</th>\n",
       "      <th>loan_status</th>\n",
       "      <th>Principal</th>\n",
       "      <th>terms</th>\n",
       "      <th>effective_date</th>\n",
       "      <th>due_date</th>\n",
       "      <th>age</th>\n",
       "      <th>education</th>\n",
       "      <th>Gender</th>\n",
       "      <th>dayofweek</th>\n",
       "      <th>weekend</th>\n",
       "    </tr>\n",
       "  </thead>\n",
       "  <tbody>\n",
       "    <tr>\n",
       "      <th>0</th>\n",
       "      <td>0</td>\n",
       "      <td>0</td>\n",
       "      <td>PAIDOFF</td>\n",
       "      <td>1000</td>\n",
       "      <td>30</td>\n",
       "      <td>2016-09-08</td>\n",
       "      <td>2016-10-07</td>\n",
       "      <td>45</td>\n",
       "      <td>High School or Below</td>\n",
       "      <td>0</td>\n",
       "      <td>3</td>\n",
       "      <td>0</td>\n",
       "    </tr>\n",
       "    <tr>\n",
       "      <th>1</th>\n",
       "      <td>2</td>\n",
       "      <td>2</td>\n",
       "      <td>PAIDOFF</td>\n",
       "      <td>1000</td>\n",
       "      <td>30</td>\n",
       "      <td>2016-09-08</td>\n",
       "      <td>2016-10-07</td>\n",
       "      <td>33</td>\n",
       "      <td>Bechalor</td>\n",
       "      <td>1</td>\n",
       "      <td>3</td>\n",
       "      <td>0</td>\n",
       "    </tr>\n",
       "    <tr>\n",
       "      <th>2</th>\n",
       "      <td>3</td>\n",
       "      <td>3</td>\n",
       "      <td>PAIDOFF</td>\n",
       "      <td>1000</td>\n",
       "      <td>15</td>\n",
       "      <td>2016-09-08</td>\n",
       "      <td>2016-09-22</td>\n",
       "      <td>27</td>\n",
       "      <td>college</td>\n",
       "      <td>0</td>\n",
       "      <td>3</td>\n",
       "      <td>0</td>\n",
       "    </tr>\n",
       "    <tr>\n",
       "      <th>3</th>\n",
       "      <td>4</td>\n",
       "      <td>4</td>\n",
       "      <td>PAIDOFF</td>\n",
       "      <td>1000</td>\n",
       "      <td>30</td>\n",
       "      <td>2016-09-09</td>\n",
       "      <td>2016-10-08</td>\n",
       "      <td>28</td>\n",
       "      <td>college</td>\n",
       "      <td>1</td>\n",
       "      <td>4</td>\n",
       "      <td>1</td>\n",
       "    </tr>\n",
       "    <tr>\n",
       "      <th>4</th>\n",
       "      <td>6</td>\n",
       "      <td>6</td>\n",
       "      <td>PAIDOFF</td>\n",
       "      <td>1000</td>\n",
       "      <td>30</td>\n",
       "      <td>2016-09-09</td>\n",
       "      <td>2016-10-08</td>\n",
       "      <td>29</td>\n",
       "      <td>college</td>\n",
       "      <td>0</td>\n",
       "      <td>4</td>\n",
       "      <td>1</td>\n",
       "    </tr>\n",
       "  </tbody>\n",
       "</table>\n",
       "</div>"
      ],
      "text/plain": [
       "   Unnamed: 0  Unnamed: 0.1 loan_status  Principal  terms effective_date  \\\n",
       "0           0             0     PAIDOFF       1000     30     2016-09-08   \n",
       "1           2             2     PAIDOFF       1000     30     2016-09-08   \n",
       "2           3             3     PAIDOFF       1000     15     2016-09-08   \n",
       "3           4             4     PAIDOFF       1000     30     2016-09-09   \n",
       "4           6             6     PAIDOFF       1000     30     2016-09-09   \n",
       "\n",
       "    due_date  age             education  Gender  dayofweek  weekend  \n",
       "0 2016-10-07   45  High School or Below       0          3        0  \n",
       "1 2016-10-07   33              Bechalor       1          3        0  \n",
       "2 2016-09-22   27               college       0          3        0  \n",
       "3 2016-10-08   28               college       1          4        1  \n",
       "4 2016-10-08   29               college       0          4        1  "
      ]
     },
     "execution_count": 23,
     "metadata": {},
     "output_type": "execute_result"
    }
   ],
   "source": [
    "df['Gender'].replace(to_replace=['male','female'], value=[0,1],inplace=True)\n",
    "df.head()"
   ]
  },
  {
   "cell_type": "markdown",
   "id": "fbfd29b6",
   "metadata": {},
   "source": [
    "__One Hot Encoding__\n",
    "\n",
    "Checking education?"
   ]
  },
  {
   "cell_type": "code",
   "execution_count": 24,
   "id": "68c9f19a",
   "metadata": {},
   "outputs": [
    {
     "data": {
      "text/plain": [
       "education             loan_status\n",
       "Bechalor              PAIDOFF        0.750000\n",
       "                      COLLECTION     0.250000\n",
       "High School or Below  PAIDOFF        0.741722\n",
       "                      COLLECTION     0.258278\n",
       "Master or Above       COLLECTION     0.500000\n",
       "                      PAIDOFF        0.500000\n",
       "college               PAIDOFF        0.765101\n",
       "                      COLLECTION     0.234899\n",
       "Name: loan_status, dtype: float64"
      ]
     },
     "execution_count": 24,
     "metadata": {},
     "output_type": "execute_result"
    }
   ],
   "source": [
    "df.groupby(['education'])['loan_status'].value_counts(normalize=True)"
   ]
  },
  {
   "cell_type": "markdown",
   "id": "22e500dd",
   "metadata": {},
   "source": [
    "__Features before One Hot Encoding__"
   ]
  },
  {
   "cell_type": "code",
   "execution_count": 25,
   "id": "c0e2bac2",
   "metadata": {},
   "outputs": [
    {
     "data": {
      "text/html": [
       "<div>\n",
       "<style scoped>\n",
       "    .dataframe tbody tr th:only-of-type {\n",
       "        vertical-align: middle;\n",
       "    }\n",
       "\n",
       "    .dataframe tbody tr th {\n",
       "        vertical-align: top;\n",
       "    }\n",
       "\n",
       "    .dataframe thead th {\n",
       "        text-align: right;\n",
       "    }\n",
       "</style>\n",
       "<table border=\"1\" class=\"dataframe\">\n",
       "  <thead>\n",
       "    <tr style=\"text-align: right;\">\n",
       "      <th></th>\n",
       "      <th>Principal</th>\n",
       "      <th>terms</th>\n",
       "      <th>age</th>\n",
       "      <th>Gender</th>\n",
       "      <th>education</th>\n",
       "    </tr>\n",
       "  </thead>\n",
       "  <tbody>\n",
       "    <tr>\n",
       "      <th>0</th>\n",
       "      <td>1000</td>\n",
       "      <td>30</td>\n",
       "      <td>45</td>\n",
       "      <td>0</td>\n",
       "      <td>High School or Below</td>\n",
       "    </tr>\n",
       "    <tr>\n",
       "      <th>1</th>\n",
       "      <td>1000</td>\n",
       "      <td>30</td>\n",
       "      <td>33</td>\n",
       "      <td>1</td>\n",
       "      <td>Bechalor</td>\n",
       "    </tr>\n",
       "    <tr>\n",
       "      <th>2</th>\n",
       "      <td>1000</td>\n",
       "      <td>15</td>\n",
       "      <td>27</td>\n",
       "      <td>0</td>\n",
       "      <td>college</td>\n",
       "    </tr>\n",
       "    <tr>\n",
       "      <th>3</th>\n",
       "      <td>1000</td>\n",
       "      <td>30</td>\n",
       "      <td>28</td>\n",
       "      <td>1</td>\n",
       "      <td>college</td>\n",
       "    </tr>\n",
       "    <tr>\n",
       "      <th>4</th>\n",
       "      <td>1000</td>\n",
       "      <td>30</td>\n",
       "      <td>29</td>\n",
       "      <td>0</td>\n",
       "      <td>college</td>\n",
       "    </tr>\n",
       "  </tbody>\n",
       "</table>\n",
       "</div>"
      ],
      "text/plain": [
       "   Principal  terms  age  Gender             education\n",
       "0       1000     30   45       0  High School or Below\n",
       "1       1000     30   33       1              Bechalor\n",
       "2       1000     15   27       0               college\n",
       "3       1000     30   28       1               college\n",
       "4       1000     30   29       0               college"
      ]
     },
     "execution_count": 25,
     "metadata": {},
     "output_type": "execute_result"
    }
   ],
   "source": [
    "df[['Principal','terms','age','Gender','education']].head()"
   ]
  },
  {
   "cell_type": "markdown",
   "id": "5cadc700",
   "metadata": {},
   "source": [
    "__Use one hot encoding technique to conver categorical varables to binary variables and append them to the feature Data Frame__"
   ]
  },
  {
   "cell_type": "code",
   "execution_count": 26,
   "id": "c48c0f5f",
   "metadata": {},
   "outputs": [
    {
     "data": {
      "text/html": [
       "<div>\n",
       "<style scoped>\n",
       "    .dataframe tbody tr th:only-of-type {\n",
       "        vertical-align: middle;\n",
       "    }\n",
       "\n",
       "    .dataframe tbody tr th {\n",
       "        vertical-align: top;\n",
       "    }\n",
       "\n",
       "    .dataframe thead th {\n",
       "        text-align: right;\n",
       "    }\n",
       "</style>\n",
       "<table border=\"1\" class=\"dataframe\">\n",
       "  <thead>\n",
       "    <tr style=\"text-align: right;\">\n",
       "      <th></th>\n",
       "      <th>Principal</th>\n",
       "      <th>terms</th>\n",
       "      <th>age</th>\n",
       "      <th>Gender</th>\n",
       "      <th>weekend</th>\n",
       "      <th>Bechalor</th>\n",
       "      <th>High School or Below</th>\n",
       "      <th>college</th>\n",
       "    </tr>\n",
       "  </thead>\n",
       "  <tbody>\n",
       "    <tr>\n",
       "      <th>0</th>\n",
       "      <td>1000</td>\n",
       "      <td>30</td>\n",
       "      <td>45</td>\n",
       "      <td>0</td>\n",
       "      <td>0</td>\n",
       "      <td>0</td>\n",
       "      <td>1</td>\n",
       "      <td>0</td>\n",
       "    </tr>\n",
       "    <tr>\n",
       "      <th>1</th>\n",
       "      <td>1000</td>\n",
       "      <td>30</td>\n",
       "      <td>33</td>\n",
       "      <td>1</td>\n",
       "      <td>0</td>\n",
       "      <td>1</td>\n",
       "      <td>0</td>\n",
       "      <td>0</td>\n",
       "    </tr>\n",
       "    <tr>\n",
       "      <th>2</th>\n",
       "      <td>1000</td>\n",
       "      <td>15</td>\n",
       "      <td>27</td>\n",
       "      <td>0</td>\n",
       "      <td>0</td>\n",
       "      <td>0</td>\n",
       "      <td>0</td>\n",
       "      <td>1</td>\n",
       "    </tr>\n",
       "    <tr>\n",
       "      <th>3</th>\n",
       "      <td>1000</td>\n",
       "      <td>30</td>\n",
       "      <td>28</td>\n",
       "      <td>1</td>\n",
       "      <td>1</td>\n",
       "      <td>0</td>\n",
       "      <td>0</td>\n",
       "      <td>1</td>\n",
       "    </tr>\n",
       "    <tr>\n",
       "      <th>4</th>\n",
       "      <td>1000</td>\n",
       "      <td>30</td>\n",
       "      <td>29</td>\n",
       "      <td>0</td>\n",
       "      <td>1</td>\n",
       "      <td>0</td>\n",
       "      <td>0</td>\n",
       "      <td>1</td>\n",
       "    </tr>\n",
       "  </tbody>\n",
       "</table>\n",
       "</div>"
      ],
      "text/plain": [
       "   Principal  terms  age  Gender  weekend  Bechalor  High School or Below  \\\n",
       "0       1000     30   45       0        0         0                     1   \n",
       "1       1000     30   33       1        0         1                     0   \n",
       "2       1000     15   27       0        0         0                     0   \n",
       "3       1000     30   28       1        1         0                     0   \n",
       "4       1000     30   29       0        1         0                     0   \n",
       "\n",
       "   college  \n",
       "0        0  \n",
       "1        0  \n",
       "2        1  \n",
       "3        1  \n",
       "4        1  "
      ]
     },
     "execution_count": 26,
     "metadata": {},
     "output_type": "execute_result"
    }
   ],
   "source": [
    "Feature = df[['Principal','terms','age','Gender','weekend']]\n",
    "Feature = pd.concat([Feature,pd.get_dummies(df['education'])], axis=1)\n",
    "Feature.drop(['Master or Above'], axis = 1,inplace=True)\n",
    "Feature.head()"
   ]
  },
  {
   "cell_type": "markdown",
   "id": "2519ef16",
   "metadata": {},
   "source": [
    "__Feature Selection__\n",
    "\n",
    "Let's define feature sets, X"
   ]
  },
  {
   "cell_type": "code",
   "execution_count": 27,
   "id": "47542e12",
   "metadata": {},
   "outputs": [
    {
     "data": {
      "text/html": [
       "<div>\n",
       "<style scoped>\n",
       "    .dataframe tbody tr th:only-of-type {\n",
       "        vertical-align: middle;\n",
       "    }\n",
       "\n",
       "    .dataframe tbody tr th {\n",
       "        vertical-align: top;\n",
       "    }\n",
       "\n",
       "    .dataframe thead th {\n",
       "        text-align: right;\n",
       "    }\n",
       "</style>\n",
       "<table border=\"1\" class=\"dataframe\">\n",
       "  <thead>\n",
       "    <tr style=\"text-align: right;\">\n",
       "      <th></th>\n",
       "      <th>Principal</th>\n",
       "      <th>terms</th>\n",
       "      <th>age</th>\n",
       "      <th>Gender</th>\n",
       "      <th>weekend</th>\n",
       "      <th>Bechalor</th>\n",
       "      <th>High School or Below</th>\n",
       "      <th>college</th>\n",
       "    </tr>\n",
       "  </thead>\n",
       "  <tbody>\n",
       "    <tr>\n",
       "      <th>0</th>\n",
       "      <td>1000</td>\n",
       "      <td>30</td>\n",
       "      <td>45</td>\n",
       "      <td>0</td>\n",
       "      <td>0</td>\n",
       "      <td>0</td>\n",
       "      <td>1</td>\n",
       "      <td>0</td>\n",
       "    </tr>\n",
       "    <tr>\n",
       "      <th>1</th>\n",
       "      <td>1000</td>\n",
       "      <td>30</td>\n",
       "      <td>33</td>\n",
       "      <td>1</td>\n",
       "      <td>0</td>\n",
       "      <td>1</td>\n",
       "      <td>0</td>\n",
       "      <td>0</td>\n",
       "    </tr>\n",
       "    <tr>\n",
       "      <th>2</th>\n",
       "      <td>1000</td>\n",
       "      <td>15</td>\n",
       "      <td>27</td>\n",
       "      <td>0</td>\n",
       "      <td>0</td>\n",
       "      <td>0</td>\n",
       "      <td>0</td>\n",
       "      <td>1</td>\n",
       "    </tr>\n",
       "    <tr>\n",
       "      <th>3</th>\n",
       "      <td>1000</td>\n",
       "      <td>30</td>\n",
       "      <td>28</td>\n",
       "      <td>1</td>\n",
       "      <td>1</td>\n",
       "      <td>0</td>\n",
       "      <td>0</td>\n",
       "      <td>1</td>\n",
       "    </tr>\n",
       "    <tr>\n",
       "      <th>4</th>\n",
       "      <td>1000</td>\n",
       "      <td>30</td>\n",
       "      <td>29</td>\n",
       "      <td>0</td>\n",
       "      <td>1</td>\n",
       "      <td>0</td>\n",
       "      <td>0</td>\n",
       "      <td>1</td>\n",
       "    </tr>\n",
       "  </tbody>\n",
       "</table>\n",
       "</div>"
      ],
      "text/plain": [
       "   Principal  terms  age  Gender  weekend  Bechalor  High School or Below  \\\n",
       "0       1000     30   45       0        0         0                     1   \n",
       "1       1000     30   33       1        0         1                     0   \n",
       "2       1000     15   27       0        0         0                     0   \n",
       "3       1000     30   28       1        1         0                     0   \n",
       "4       1000     30   29       0        1         0                     0   \n",
       "\n",
       "   college  \n",
       "0        0  \n",
       "1        0  \n",
       "2        1  \n",
       "3        1  \n",
       "4        1  "
      ]
     },
     "execution_count": 27,
     "metadata": {},
     "output_type": "execute_result"
    }
   ],
   "source": [
    "X = Feature\n",
    "X[0:5]"
   ]
  },
  {
   "cell_type": "code",
   "execution_count": 28,
   "id": "7c3cf702",
   "metadata": {},
   "outputs": [
    {
     "data": {
      "text/plain": [
       "array(['PAIDOFF', 'PAIDOFF', 'PAIDOFF', 'PAIDOFF', 'PAIDOFF'],\n",
       "      dtype=object)"
      ]
     },
     "execution_count": 28,
     "metadata": {},
     "output_type": "execute_result"
    }
   ],
   "source": [
    "y = df['loan_status'].values\n",
    "y[0:5]"
   ]
  },
  {
   "cell_type": "markdown",
   "id": "7f78ca82",
   "metadata": {},
   "source": [
    "__Normalize Data__\n",
    "\n",
    "Data Standardization give data zero mean and unit variance (technically should be done after train test split)"
   ]
  },
  {
   "cell_type": "code",
   "execution_count": 29,
   "id": "75e50626",
   "metadata": {},
   "outputs": [
    {
     "data": {
      "text/plain": [
       "array([[ 0.51578458,  0.92071769,  2.33152555, -0.42056004, -1.20577805,\n",
       "        -0.38170062,  1.13639374, -0.86968108],\n",
       "       [ 0.51578458,  0.92071769,  0.34170148,  2.37778177, -1.20577805,\n",
       "         2.61985426, -0.87997669, -0.86968108],\n",
       "       [ 0.51578458, -0.95911111, -0.65321055, -0.42056004, -1.20577805,\n",
       "        -0.38170062, -0.87997669,  1.14984679],\n",
       "       [ 0.51578458,  0.92071769, -0.48739188,  2.37778177,  0.82934003,\n",
       "        -0.38170062, -0.87997669,  1.14984679],\n",
       "       [ 0.51578458,  0.92071769, -0.3215732 , -0.42056004,  0.82934003,\n",
       "        -0.38170062, -0.87997669,  1.14984679]])"
      ]
     },
     "execution_count": 29,
     "metadata": {},
     "output_type": "execute_result"
    }
   ],
   "source": [
    "X= preprocessing.StandardScaler().fit(X).transform(X)\n",
    "X[0:5]"
   ]
  },
  {
   "cell_type": "markdown",
   "id": "2bf00bd1",
   "metadata": {},
   "source": [
    "# __Classification__ #"
   ]
  },
  {
   "cell_type": "code",
   "execution_count": 39,
   "id": "dfc116c6",
   "metadata": {},
   "outputs": [],
   "source": [
    "from sklearn.metrics import jaccard_score, f1_score, log_loss"
   ]
  },
  {
   "cell_type": "code",
   "execution_count": 44,
   "id": "9ed1b06a",
   "metadata": {},
   "outputs": [],
   "source": [
    "from sklearn.model_selection import train_test_split\n",
    "X_train, X_test, y_train, y_test = train_test_split(X, y, test_size = 0.2, random_state = 2)"
   ]
  },
  {
   "cell_type": "markdown",
   "id": "5788b197",
   "metadata": {},
   "source": [
    "### __K Nearest Neighbor(KNN)__ ###"
   ]
  },
  {
   "cell_type": "markdown",
   "id": "ecb65a73",
   "metadata": {},
   "source": [
    "Find the best k to build the model with the best accuracy.(Should not use the loan_test.csv for finding the best k, however, can split train_loan.csv into train and test to find the best k.)"
   ]
  },
  {
   "cell_type": "code",
   "execution_count": 45,
   "id": "8c209aa8",
   "metadata": {},
   "outputs": [],
   "source": [
    "from sklearn.neighbors import KNeighborsClassifier as knn\n",
    "from sklearn.metrics import accuracy_score\n",
    "\n",
    "ks = range(1, 10)\n",
    "mean_accuracy = []\n",
    "\n",
    "for n in ks:\n",
    "    knn_model  = knn(n_neighbors = n)\n",
    "    knn_model.fit(X_train, y_train)\n",
    "    knn_yhat = knn_model.predict(X_test)\n",
    "    mean_accuracy.append(accuracy_score(y_test, knn_yhat))"
   ]
  },
  {
   "cell_type": "code",
   "execution_count": 46,
   "id": "7c9bc279",
   "metadata": {},
   "outputs": [
    {
     "name": "stdout",
     "output_type": "stream",
     "text": [
      "k = 1 has a Score = 0.6428571428571429 \n",
      "k = 2 has a Score = 0.5571428571428572 \n",
      "k = 3 has a Score = 0.7142857142857143 \n",
      "k = 4 has a Score = 0.6285714285714286 \n",
      "k = 5 has a Score = 0.7571428571428571 \n",
      "k = 6 has a Score = 0.6571428571428571 \n",
      "k = 7 has a Score = 0.7571428571428571 \n",
      "k = 8 has a Score = 0.7142857142857143 \n",
      "k = 9 has a Score = 0.7 \n"
     ]
    }
   ],
   "source": [
    "for i in range(0, len(mean_accuracy)):\n",
    "    print(\"k = {} has a Score = {} \".format(i+1, mean_accuracy[i]))"
   ]
  },
  {
   "cell_type": "code",
   "execution_count": 47,
   "id": "c351dc6b",
   "metadata": {},
   "outputs": [
    {
     "data": {
      "text/plain": [
       "Text(0, 0.5, 'Testing Accuracy Values')"
      ]
     },
     "execution_count": 47,
     "metadata": {},
     "output_type": "execute_result"
    },
    {
     "data": {
      "image/png": "[encoded data removed]",
      "text/plain": [
       "<Figure size 432x288 with 1 Axes>"
      ]
     },
     "metadata": {
      "needs_background": "light"
     },
     "output_type": "display_data"
    }
   ],
   "source": [
    "# Relation between k's and their respective accuracies\n",
    "\n",
    "plt.plot(ks, mean_accuracy)\n",
    "plt.xlabel('Values of K')\n",
    "plt.ylabel('Testing Accuracy Values')"
   ]
  },
  {
   "cell_type": "code",
   "execution_count": 48,
   "id": "8ec79825",
   "metadata": {},
   "outputs": [
    {
     "data": {
      "text/plain": [
       "KNeighborsClassifier(n_neighbors=7)"
      ]
     },
     "execution_count": 48,
     "metadata": {},
     "output_type": "execute_result"
    }
   ],
   "source": [
    "# Final Model with best value of k\n",
    "\n",
    "knn_model = knn(n_neighbors = 7)\n",
    "knn_model.fit(X_train, y_train)\n",
    "knn_yhat = knn_model.predict(X_test)\n",
    "\n",
    "knn_model"
   ]
  },
  {
   "cell_type": "markdown",
   "id": "40747044",
   "metadata": {},
   "source": [
    "### __Decision Tree__ ###"
   ]
  },
  {
   "cell_type": "code",
   "execution_count": 49,
   "id": "d2dcc72a",
   "metadata": {},
   "outputs": [],
   "source": [
    "from sklearn.tree import DecisionTreeClassifier \n",
    "from sklearn.metrics import jaccard_score\n",
    "from sklearn.metrics import f1_score"
   ]
  },
  {
   "cell_type": "code",
   "execution_count": 53,
   "id": "50696f37",
   "metadata": {},
   "outputs": [
    {
     "ename": "TypeError",
     "evalue": "'list' object is not callable",
     "output_type": "error",
     "traceback": [
      "\u001b[1;31m---------------------------------------------------------------------------\u001b[0m",
      "\u001b[1;31mTypeError\u001b[0m                                 Traceback (most recent call last)",
      "\u001b[1;32m~\\AppData\\Local\\Temp/ipykernel_8004/277215287.py\u001b[0m in \u001b[0;36m<module>\u001b[1;34m\u001b[0m\n\u001b[0;32m      7\u001b[0m     \u001b[0mdt\u001b[0m\u001b[1;33m.\u001b[0m\u001b[0mfit\u001b[0m\u001b[1;33m(\u001b[0m\u001b[0mX_train\u001b[0m\u001b[1;33m,\u001b[0m \u001b[0my_train\u001b[0m\u001b[1;33m)\u001b[0m\u001b[1;33m\u001b[0m\u001b[1;33m\u001b[0m\u001b[0m\n\u001b[0;32m      8\u001b[0m     \u001b[0mdt_yhat\u001b[0m \u001b[1;33m=\u001b[0m \u001b[0mdt\u001b[0m\u001b[1;33m.\u001b[0m\u001b[0mpredict\u001b[0m\u001b[1;33m(\u001b[0m\u001b[0mX_test\u001b[0m\u001b[1;33m)\u001b[0m\u001b[1;33m\u001b[0m\u001b[1;33m\u001b[0m\u001b[0m\n\u001b[1;32m----> 9\u001b[1;33m     \u001b[0mjaccard_score_\u001b[0m\u001b[1;33m.\u001b[0m\u001b[0mappend\u001b[0m\u001b[1;33m(\u001b[0m\u001b[0mjaccard_score\u001b[0m\u001b[1;33m(\u001b[0m\u001b[0my_test\u001b[0m\u001b[1;33m,\u001b[0m \u001b[0mdt_yhat\u001b[0m\u001b[1;33m)\u001b[0m\u001b[1;33m)\u001b[0m\u001b[1;33m\u001b[0m\u001b[1;33m\u001b[0m\u001b[0m\n\u001b[0m\u001b[0;32m     10\u001b[0m     \u001b[0mf1_score_\u001b[0m\u001b[1;33m.\u001b[0m\u001b[0mappend\u001b[0m\u001b[1;33m(\u001b[0m\u001b[0mf1_score\u001b[0m\u001b[1;33m(\u001b[0m\u001b[0my_test\u001b[0m\u001b[1;33m,\u001b[0m \u001b[0mdt_yhat\u001b[0m\u001b[1;33m,\u001b[0m \u001b[0maverage\u001b[0m \u001b[1;33m=\u001b[0m \u001b[1;34m'weighted'\u001b[0m\u001b[1;33m)\u001b[0m\u001b[1;33m)\u001b[0m\u001b[1;33m\u001b[0m\u001b[1;33m\u001b[0m\u001b[0m\n",
      "\u001b[1;31mTypeError\u001b[0m: 'list' object is not callable"
     ]
    }
   ],
   "source": [
    "depth_range = range(1, 10)\n",
    "jaccard_score_ = []\n",
    "f1_score_ = []\n",
    "\n",
    "for d in depth_range:\n",
    "    dt = DecisionTreeClassifier(criterion = 'gini', max_depth = d)\n",
    "    dt.fit(X_train, y_train)\n",
    "    dt_yhat = dt.predict(X_test)\n",
    "    jaccard_score_.append(jaccard_score(y_test, dt_yhat))\n",
    "    f1_score_.append(f1_score(y_test, dt_yhat, average = 'weighted'))"
   ]
  },
  {
   "cell_type": "code",
   "execution_count": 54,
   "id": "7a6a2b8c",
   "metadata": {},
   "outputs": [
    {
     "name": "stdout",
     "output_type": "stream",
     "text": [
      "For depth = 1  the accuracy score is 0.8285714285714286 \n",
      "For depth = 2  the accuracy score is 0.6857142857142857 \n",
      "For depth = 3  the accuracy score is 0.8142857142857143 \n",
      "For depth = 4  the accuracy score is 0.7 \n",
      "For depth = 5  the accuracy score is 0.7428571428571429 \n",
      "For depth = 6  the accuracy score is 0.6142857142857143 \n",
      "For depth = 7  the accuracy score is 0.6285714285714286 \n",
      "For depth = 8  the accuracy score is 0.6 \n",
      "For depth = 9  the accuracy score is 0.5571428571428572 \n"
     ]
    }
   ],
   "source": [
    "for d in range(1,10):\n",
    "    dt = DecisionTreeClassifier(criterion = 'entropy', max_depth = d).fit(x_train, y_train)\n",
    "    dt_yhat = dt.predict(x_test)\n",
    "    print(\"For depth = {}  the accuracy score is {} \".format(d, accuracy_score(y_test, dt_yhat)))"
   ]
  },
  {
   "cell_type": "code",
   "execution_count": 55,
   "id": "0d259e23",
   "metadata": {},
   "outputs": [
    {
     "name": "stdout",
     "output_type": "stream",
     "text": [
      "The best value of depth is d = 2 \n"
     ]
    }
   ],
   "source": [
    "print(\"The best value of depth is d = 2 \")"
   ]
  },
  {
   "cell_type": "code",
   "execution_count": 56,
   "id": "89242903",
   "metadata": {},
   "outputs": [
    {
     "data": {
      "text/plain": [
       "DecisionTreeClassifier(criterion='entropy', max_depth=2)"
      ]
     },
     "execution_count": 56,
     "metadata": {},
     "output_type": "execute_result"
    }
   ],
   "source": [
    "## Creating the best model for decision tree with best value of depth 2\n",
    "\n",
    "best_dt_model = DecisionTreeClassifier(criterion = 'entropy', max_depth = 2).fit(x_train, y_train)\n",
    "best_dt_model"
   ]
  },
  {
   "cell_type": "code",
   "execution_count": 57,
   "id": "2c158745",
   "metadata": {},
   "outputs": [
    {
     "name": "stdout",
     "output_type": "stream",
     "text": [
      "Train set Accuracy (Jaccard):  0.6954732510288066\n",
      "Test set Accuracy (Jaccard):  0.6716417910447762\n",
      "Train set Accuracy (F1):  0.7268266698828116\n",
      "Test set Accuracy (F1):  0.7025510204081633\n"
     ]
    }
   ],
   "source": [
    "## Evaluation Metrics\n",
    "# f1 score\n",
    "from sklearn.metrics import f1_score\n",
    "from sklearn.metrics import jaccard_score\n",
    "\n",
    "print(\"Train set Accuracy (Jaccard): \", jaccard_score(y_train, best_dt_model.predict(x_train),pos_label = \"PAIDOFF\"))\n",
    "print(\"Test set Accuracy (Jaccard): \", jaccard_score(y_test, best_dt_model.predict(x_test),pos_label = \"PAIDOFF\"))\n",
    "\n",
    "print(\"Train set Accuracy (F1): \", f1_score(y_train, best_dt_model.predict(x_train), average='weighted'))\n",
    "print(\"Test set Accuracy (F1): \", f1_score(y_test, best_dt_model.predict(x_test), average='weighted'))"
   ]
  },
  {
   "cell_type": "markdown",
   "id": "a7a972ea",
   "metadata": {},
   "source": [
    "### __Support Vector Machine__ ###"
   ]
  },
  {
   "cell_type": "code",
   "execution_count": 58,
   "id": "ce6d77bf",
   "metadata": {},
   "outputs": [],
   "source": [
    "#importing svm\n",
    "from sklearn import svm \n",
    "from sklearn.metrics import f1_score"
   ]
  },
  {
   "cell_type": "code",
   "execution_count": 59,
   "id": "baf6cb0d",
   "metadata": {},
   "outputs": [
    {
     "name": "stdout",
     "output_type": "stream",
     "text": [
      "For kernel: linear, the f1 score is: 0.7508928571428571\n",
      "For kernel: poly, the f1 score is: 0.729142857142857\n",
      "For kernel: rbf, the f1 score is: 0.7508928571428571\n",
      "For kernel: sigmoid, the f1 score is: 0.8013714285714285\n"
     ]
    }
   ],
   "source": [
    "for k in ('linear', 'poly', 'rbf','sigmoid'):\n",
    "    svm_model = svm.SVC( kernel = k).fit(x_train,y_train)\n",
    "    svm_yhat = svm_model.predict(x_test)\n",
    "    print(\"For kernel: {}, the f1 score is: {}\".format(k,f1_score(y_test,svm_yhat, average='weighted')))"
   ]
  },
  {
   "cell_type": "code",
   "execution_count": 60,
   "id": "466a67f6",
   "metadata": {},
   "outputs": [
    {
     "name": "stdout",
     "output_type": "stream",
     "text": [
      "We can see the rbf has the best f1 score of 0.7275882012724117 \n"
     ]
    }
   ],
   "source": [
    "print(\"We can see the rbf has the best f1 score of 0.7275882012724117 \")"
   ]
  },
  {
   "cell_type": "code",
   "execution_count": 61,
   "id": "607af843",
   "metadata": {},
   "outputs": [
    {
     "data": {
      "text/plain": [
       "SVC()"
      ]
     },
     "execution_count": 61,
     "metadata": {},
     "output_type": "execute_result"
    }
   ],
   "source": [
    "## building best SVM with kernel = rbf\n",
    "best_svm = svm.SVC(kernel='rbf').fit(x_train,y_train)\n",
    "best_svm"
   ]
  },
  {
   "cell_type": "code",
   "execution_count": 67,
   "id": "f80ceb5d",
   "metadata": {},
   "outputs": [
    {
     "name": "stdout",
     "output_type": "stream",
     "text": [
      "Train set Accuracy (Jaccard):  0.7345454545454545\n",
      "Test set Accuracy (Jaccard):  0.8285714285714286\n",
      "Train set Accuracy (F1):  0.6270264029410871\n",
      "Test set Accuracy (F1):  0.7508928571428571\n"
     ]
    }
   ],
   "source": [
    "from sklearn.metrics import f1_score\n",
    "from sklearn.metrics import jaccard_score\n",
    "\n",
    "print(\"Train set Accuracy (Jaccard): \", jaccard_score(y_train, best_svm.predict(x_train),pos_label = \"PAIDOFF\"))\n",
    "print(\"Test set Accuracy (Jaccard): \", jaccard_score(y_test, best_svm.predict(x_test),pos_label = \"PAIDOFF\"))\n",
    "\n",
    "print(\"Train set Accuracy (F1): \", f1_score(y_train, best_svm.predict(x_train), average='weighted'))\n",
    "print(\"Test set Accuracy (F1): \", f1_score(y_test, best_svm.predict(x_test), average='weighted'))"
   ]
  },
  {
   "cell_type": "markdown",
   "id": "8d71311a",
   "metadata": {},
   "source": [
    "### __Logistic Regression__ ###"
   ]
  },
  {
   "cell_type": "code",
   "execution_count": 68,
   "id": "294369cf",
   "metadata": {},
   "outputs": [],
   "source": [
    "# importing libraries\n",
    "from sklearn.linear_model import LogisticRegression \n",
    "from sklearn.metrics import log_loss"
   ]
  },
  {
   "cell_type": "code",
   "execution_count": 69,
   "id": "07815f3f",
   "metadata": {},
   "outputs": [
    {
     "name": "stdout",
     "output_type": "stream",
     "text": [
      "When Solver is lbfgs, logloss is : 0.48528444791433034\n",
      "When Solver is saga, logloss is : 0.4852850677501109\n",
      "When Solver is liblinear, logloss is : 0.5896970347899092\n",
      "When Solver is newton-cg, logloss is : 0.48528523579096117\n",
      "When Solver is sag, logloss is : 0.4852939759424953\n"
     ]
    }
   ],
   "source": [
    "for k in ('lbfgs', 'saga', 'liblinear', 'newton-cg', 'sag'):\n",
    "    lr_model = LogisticRegression(C = 0.01, solver = k).fit(x_train, y_train)\n",
    "    lr_yhat = lr_model.predict(x_test)\n",
    "    y_prob = lr_model.predict_proba(x_test)\n",
    "    print('When Solver is {}, logloss is : {}'.format(k, log_loss(y_test, y_prob)))"
   ]
  },
  {
   "cell_type": "code",
   "execution_count": 70,
   "id": "a147a092",
   "metadata": {},
   "outputs": [
    {
     "name": "stdout",
     "output_type": "stream",
     "text": [
      "We can see that the best solver is liblinear of 0.5772287609479654\n"
     ]
    }
   ],
   "source": [
    "print(\"We can see that the best solver is liblinear of 0.5772287609479654\")"
   ]
  },
  {
   "cell_type": "code",
   "execution_count": 71,
   "id": "88d341b1",
   "metadata": {},
   "outputs": [
    {
     "data": {
      "text/plain": [
       "LogisticRegression(C=0.01, solver='liblinear')"
      ]
     },
     "execution_count": 71,
     "metadata": {},
     "output_type": "execute_result"
    }
   ],
   "source": [
    "# Best logistic regression model with liblinear solver\n",
    "\n",
    "best_lr_model = LogisticRegression(C = 0.01, solver = 'liblinear').fit(x_train, y_train)\n",
    "best_lr_model"
   ]
  },
  {
   "cell_type": "code",
   "execution_count": 72,
   "id": "6419c90b",
   "metadata": {},
   "outputs": [
    {
     "name": "stdout",
     "output_type": "stream",
     "text": [
      "Train set Accuracy (Jaccard):  0.7318840579710145\n",
      "Test set Accuracy (Jaccard):  0.8285714285714286\n",
      "Train set Accuracy (F1):  0.6185798314232005\n",
      "Test set Accuracy (F1):  0.7508928571428571\n"
     ]
    }
   ],
   "source": [
    "## Evaluation Metrics\n",
    "# jaccard score and f1 score\n",
    "from sklearn.metrics import f1_score\n",
    "from sklearn.metrics import jaccard_score\n",
    "\n",
    "print(\"Train set Accuracy (Jaccard): \", jaccard_score(y_train, best_lr_model.predict(x_train),pos_label = \"PAIDOFF\"))\n",
    "print(\"Test set Accuracy (Jaccard): \", jaccard_score(y_test, best_lr_model.predict(x_test),pos_label = \"PAIDOFF\"))\n",
    "\n",
    "print(\"Train set Accuracy (F1): \", f1_score(y_train, best_lr_model.predict(x_train), average='weighted'))\n",
    "print(\"Test set Accuracy (F1): \", f1_score(y_test, best_lr_model.predict(x_test), average='weighted'))"
   ]
  },
  {
   "cell_type": "markdown",
   "id": "715b5cf4",
   "metadata": {},
   "source": [
    "### __Load Test set for evaluation__ ###"
   ]
  },
  {
   "cell_type": "code",
   "execution_count": 74,
   "id": "d45691d3",
   "metadata": {},
   "outputs": [
    {
     "data": {
      "text/html": [
       "<div>\n",
       "<style scoped>\n",
       "    .dataframe tbody tr th:only-of-type {\n",
       "        vertical-align: middle;\n",
       "    }\n",
       "\n",
       "    .dataframe tbody tr th {\n",
       "        vertical-align: top;\n",
       "    }\n",
       "\n",
       "    .dataframe thead th {\n",
       "        text-align: right;\n",
       "    }\n",
       "</style>\n",
       "<table border=\"1\" class=\"dataframe\">\n",
       "  <thead>\n",
       "    <tr style=\"text-align: right;\">\n",
       "      <th></th>\n",
       "      <th>Unnamed: 0</th>\n",
       "      <th>Unnamed: 0.1</th>\n",
       "      <th>loan_status</th>\n",
       "      <th>Principal</th>\n",
       "      <th>terms</th>\n",
       "      <th>effective_date</th>\n",
       "      <th>due_date</th>\n",
       "      <th>age</th>\n",
       "      <th>education</th>\n",
       "      <th>Gender</th>\n",
       "    </tr>\n",
       "  </thead>\n",
       "  <tbody>\n",
       "    <tr>\n",
       "      <th>0</th>\n",
       "      <td>0</td>\n",
       "      <td>0</td>\n",
       "      <td>PAIDOFF</td>\n",
       "      <td>1000</td>\n",
       "      <td>30</td>\n",
       "      <td>9/8/2016</td>\n",
       "      <td>10/7/2016</td>\n",
       "      <td>45</td>\n",
       "      <td>High School or Below</td>\n",
       "      <td>male</td>\n",
       "    </tr>\n",
       "    <tr>\n",
       "      <th>1</th>\n",
       "      <td>2</td>\n",
       "      <td>2</td>\n",
       "      <td>PAIDOFF</td>\n",
       "      <td>1000</td>\n",
       "      <td>30</td>\n",
       "      <td>9/8/2016</td>\n",
       "      <td>10/7/2016</td>\n",
       "      <td>33</td>\n",
       "      <td>Bechalor</td>\n",
       "      <td>female</td>\n",
       "    </tr>\n",
       "    <tr>\n",
       "      <th>2</th>\n",
       "      <td>3</td>\n",
       "      <td>3</td>\n",
       "      <td>PAIDOFF</td>\n",
       "      <td>1000</td>\n",
       "      <td>15</td>\n",
       "      <td>9/8/2016</td>\n",
       "      <td>9/22/2016</td>\n",
       "      <td>27</td>\n",
       "      <td>college</td>\n",
       "      <td>male</td>\n",
       "    </tr>\n",
       "    <tr>\n",
       "      <th>3</th>\n",
       "      <td>4</td>\n",
       "      <td>4</td>\n",
       "      <td>PAIDOFF</td>\n",
       "      <td>1000</td>\n",
       "      <td>30</td>\n",
       "      <td>9/9/2016</td>\n",
       "      <td>10/8/2016</td>\n",
       "      <td>28</td>\n",
       "      <td>college</td>\n",
       "      <td>female</td>\n",
       "    </tr>\n",
       "    <tr>\n",
       "      <th>4</th>\n",
       "      <td>6</td>\n",
       "      <td>6</td>\n",
       "      <td>PAIDOFF</td>\n",
       "      <td>1000</td>\n",
       "      <td>30</td>\n",
       "      <td>9/9/2016</td>\n",
       "      <td>10/8/2016</td>\n",
       "      <td>29</td>\n",
       "      <td>college</td>\n",
       "      <td>male</td>\n",
       "    </tr>\n",
       "  </tbody>\n",
       "</table>\n",
       "</div>"
      ],
      "text/plain": [
       "   Unnamed: 0  Unnamed: 0.1 loan_status  Principal  terms effective_date  \\\n",
       "0           0             0     PAIDOFF       1000     30       9/8/2016   \n",
       "1           2             2     PAIDOFF       1000     30       9/8/2016   \n",
       "2           3             3     PAIDOFF       1000     15       9/8/2016   \n",
       "3           4             4     PAIDOFF       1000     30       9/9/2016   \n",
       "4           6             6     PAIDOFF       1000     30       9/9/2016   \n",
       "\n",
       "    due_date  age             education  Gender  \n",
       "0  10/7/2016   45  High School or Below    male  \n",
       "1  10/7/2016   33              Bechalor  female  \n",
       "2  9/22/2016   27               college    male  \n",
       "3  10/8/2016   28               college  female  \n",
       "4  10/8/2016   29               college    male  "
      ]
     },
     "execution_count": 74,
     "metadata": {},
     "output_type": "execute_result"
    }
   ],
   "source": [
    "test_df = pd.read_csv('https://cf-courses-data.s3.us.cloud-object-storage.appdomain.cloud/IBMDeveloperSkillsNetwork-ML0101EN-SkillsNetwork/labs/FinalModule_Coursera/data/loan_train.csv')\n",
    "test_df.head()"
   ]
  },
  {
   "cell_type": "code",
   "execution_count": 75,
   "id": "c7453329",
   "metadata": {},
   "outputs": [],
   "source": [
    "# data processing\n",
    "test_df['due_date'] = pd.to_datetime(test_df['due_date'])\n",
    "test_df['effective_date'] = pd.to_datetime(test_df['effective_date'])\n",
    "test_df['dayofweek'] = test_df['effective_date'].dt.dayofweek\n",
    "\n",
    "test_df['weekend'] = test_df['dayofweek'].apply(lambda x: 1 if (x>3)  else 0)\n",
    "test_df['Gender'].replace(to_replace=['male','female'], value=[0,1],inplace=True)\n",
    "\n",
    "Feature1 = test_df[['Principal','terms','age','Gender','weekend']]\n",
    "Feature1 = pd.concat([Feature1,pd.get_dummies(test_df['education'])], axis=1)\n",
    "Feature1.drop(['Master or Above'], axis = 1,inplace=True)\n",
    "\n",
    "\n",
    "x_loan_test = Feature1\n",
    "x_loan_test = preprocessing.StandardScaler().fit(x_loan_test).transform(x_loan_test)\n",
    "\n",
    "y_loan_test = test_df['loan_status'].values"
   ]
  },
  {
   "cell_type": "code",
   "execution_count": 76,
   "id": "e8a0663b",
   "metadata": {},
   "outputs": [
    {
     "data": {
      "text/plain": [
       "[0.78, 0.63, 0.75, 0.75]"
      ]
     },
     "execution_count": 76,
     "metadata": {},
     "output_type": "execute_result"
    }
   ],
   "source": [
    "# Jaccard\n",
    "\n",
    "# KNN\n",
    "knn_yhat = best_knn_model.predict(x_loan_test)\n",
    "jacc1 = round(jaccard_score(y_loan_test, knn_yhat,pos_label = \"PAIDOFF\"), 2)\n",
    "\n",
    "# Decision Tree\n",
    "dt_yhat = best_dt_model.predict(x_loan_test)\n",
    "jacc2 = round(jaccard_score(y_loan_test, dt_yhat,pos_label = \"PAIDOFF\"), 2)\n",
    "\n",
    "# Support Vector Machine\n",
    "svm_yhat = best_svm.predict(x_loan_test)\n",
    "jacc3 = round(jaccard_score(y_loan_test, svm_yhat,pos_label = \"PAIDOFF\"), 2)\n",
    "\n",
    "# Logistic Regression\n",
    "lr_yhat = best_lr_model.predict(x_loan_test)\n",
    "jacc4 = round(jaccard_score(y_loan_test, lr_yhat,pos_label = \"PAIDOFF\"), 2)\n",
    "\n",
    "jss = [jacc1, jacc2, jacc3, jacc4]\n",
    "jss"
   ]
  },
  {
   "cell_type": "code",
   "execution_count": 77,
   "id": "9618f9e9",
   "metadata": {},
   "outputs": [
    {
     "data": {
      "text/plain": [
       "[0.8, 0.65, 0.65, 0.64]"
      ]
     },
     "execution_count": 77,
     "metadata": {},
     "output_type": "execute_result"
    }
   ],
   "source": [
    "# F1_score\n",
    "\n",
    "# KNN\n",
    "knn_yhat = best_knn_model.predict(x_loan_test)\n",
    "f1 = round(f1_score(y_loan_test, knn_yhat, average = 'weighted'), 2)\n",
    "\n",
    "# Decision Tree\n",
    "dt_yhat = best_dt_model.predict(x_loan_test)\n",
    "f2 = round(f1_score(y_loan_test, dt_yhat, average = 'weighted'), 2)\n",
    "\n",
    "# Support Vector Machine\n",
    "svm_yhat = best_svm.predict(x_loan_test)\n",
    "f3 = round(f1_score(y_loan_test, svm_yhat, average = 'weighted'), 2)\n",
    "\n",
    "# Logistic Regression\n",
    "lr_yhat = best_lr_model.predict(x_loan_test)\n",
    "f4 = round(f1_score(y_loan_test, lr_yhat, average = 'weighted'), 2)\n",
    "\n",
    "f1_list = [f1, f2, f3, f4]\n",
    "f1_list"
   ]
  },
  {
   "cell_type": "code",
   "execution_count": 78,
   "id": "ce59d9bd",
   "metadata": {},
   "outputs": [
    {
     "data": {
      "text/plain": [
       "['NA', 'NA', 'NA', 0.61]"
      ]
     },
     "execution_count": 78,
     "metadata": {},
     "output_type": "execute_result"
    }
   ],
   "source": [
    "# log loss\n",
    "\n",
    "# Logistic Regression\n",
    "lr_prob = best_lr_model.predict_proba(x_loan_test)\n",
    "ll_list = ['NA','NA','NA', round(log_loss(y_loan_test, lr_prob), 2)]\n",
    "ll_list"
   ]
  },
  {
   "cell_type": "code",
   "execution_count": 79,
   "id": "6ca5bde8",
   "metadata": {},
   "outputs": [
    {
     "data": {
      "text/html": [
       "<div>\n",
       "<style scoped>\n",
       "    .dataframe tbody tr th:only-of-type {\n",
       "        vertical-align: middle;\n",
       "    }\n",
       "\n",
       "    .dataframe tbody tr th {\n",
       "        vertical-align: top;\n",
       "    }\n",
       "\n",
       "    .dataframe thead th {\n",
       "        text-align: right;\n",
       "    }\n",
       "</style>\n",
       "<table border=\"1\" class=\"dataframe\">\n",
       "  <thead>\n",
       "    <tr style=\"text-align: right;\">\n",
       "      <th>Algorithm</th>\n",
       "      <th>Jaccard</th>\n",
       "      <th>F1-score</th>\n",
       "      <th>Logloss</th>\n",
       "    </tr>\n",
       "  </thead>\n",
       "  <tbody>\n",
       "    <tr>\n",
       "      <th>KNN</th>\n",
       "      <td>0.78</td>\n",
       "      <td>0.8</td>\n",
       "      <td>NA</td>\n",
       "    </tr>\n",
       "    <tr>\n",
       "      <th>Decision Tree</th>\n",
       "      <td>0.63</td>\n",
       "      <td>0.65</td>\n",
       "      <td>NA</td>\n",
       "    </tr>\n",
       "    <tr>\n",
       "      <th>SVM</th>\n",
       "      <td>0.75</td>\n",
       "      <td>0.65</td>\n",
       "      <td>NA</td>\n",
       "    </tr>\n",
       "    <tr>\n",
       "      <th>Logistic Regression</th>\n",
       "      <td>0.75</td>\n",
       "      <td>0.64</td>\n",
       "      <td>0.61</td>\n",
       "    </tr>\n",
       "  </tbody>\n",
       "</table>\n",
       "</div>"
      ],
      "text/plain": [
       "Algorithm           Jaccard F1-score Logloss\n",
       "KNN                    0.78      0.8      NA\n",
       "Decision Tree          0.63     0.65      NA\n",
       "SVM                    0.75     0.65      NA\n",
       "Logistic Regression    0.75     0.64    0.61"
      ]
     },
     "execution_count": 79,
     "metadata": {},
     "output_type": "execute_result"
    }
   ],
   "source": [
    "columns = ['KNN', 'Decision Tree', 'SVM', 'Logistic Regression']\n",
    "index = ['Jaccard', 'F1-score', 'Logloss']\n",
    "\n",
    "accuracy_df = pd.DataFrame([jss, f1_list, ll_list], index = index, columns = columns)\n",
    "accuracy_df1 = accuracy_df.transpose()\n",
    "accuracy_df1.columns.name = 'Algorithm'\n",
    "accuracy_df1"
   ]
  },
  {
   "cell_type": "code",
   "execution_count": null,
   "id": "1a6873a1",
   "metadata": {},
   "outputs": [],
   "source": []
  }
 ],
 "metadata": {
  "kernelspec": {
   "display_name": "Python 3 (ipykernel)",
   "language": "python",
   "name": "python3"
  },
  "language_info": {
   "codemirror_mode": {
    "name": "ipython",
    "version": 3
   },
   "file_extension": ".py",
   "mimetype": "text/x-python",
   "name": "python",
   "nbconvert_exporter": "python",
   "pygments_lexer": "ipython3",
   "version": "3.9.7"
  }
 },
 "nbformat": 4,
 "nbformat_minor": 5
}
